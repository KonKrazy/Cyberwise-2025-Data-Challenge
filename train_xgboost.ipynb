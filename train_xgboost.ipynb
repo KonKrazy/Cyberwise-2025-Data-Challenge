{
 "cells": [
  {
   "cell_type": "code",
   "execution_count": 2,
   "id": "65f707c4-fa7c-4328-8950-45d638b48780",
   "metadata": {},
   "outputs": [
    {
     "name": "stdout",
     "output_type": "stream",
     "text": [
      "Defaulting to user installation because normal site-packages is not writeable\n",
      "Collecting xgboost\n",
      "  Downloading xgboost-2.1.4-py3-none-manylinux_2_28_x86_64.whl (223.6 MB)\n",
      "\u001b[K     |████████████████████████████████| 223.6 MB 3.6 kB/s  eta 0:00:01\n",
      "\u001b[?25hRequirement already satisfied: scipy in /sw/eb/sw/Anaconda3/2021.11/lib/python3.9/site-packages (from xgboost) (1.7.1)\n",
      "Collecting nvidia-nccl-cu12\n",
      "  Downloading nvidia_nccl_cu12-2.26.2-py3-none-manylinux2014_x86_64.manylinux_2_17_x86_64.whl (201.3 MB)\n",
      "\u001b[K     |████████████████████████████████| 201.3 MB 14 kB/s /s eta 0:00:01\n",
      "\u001b[?25hRequirement already satisfied: numpy in /sw/eb/sw/Anaconda3/2021.11/lib/python3.9/site-packages (from xgboost) (1.20.3)\n",
      "Installing collected packages: nvidia-nccl-cu12, xgboost\n",
      "Successfully installed nvidia-nccl-cu12-2.26.2 xgboost-2.1.4\n",
      "Note: you may need to restart the kernel to use updated packages.\n"
     ]
    }
   ],
   "source": [
    "%pip install xgboost"
   ]
  },
  {
   "cell_type": "code",
   "execution_count": 1,
   "id": "471ad756-b106-4c7e-a29f-a65433b590db",
   "metadata": {},
   "outputs": [],
   "source": [
    "# Import libraries\n",
    "import pandas as pd\n",
    "import numpy as np\n",
    "import matplotlib.pyplot as plt\n",
    "import seaborn as sns\n",
    "import xgboost as xgb\n",
    "from xgboost import XGBClassifier\n",
    "from sklearn.model_selection import train_test_split, RandomizedSearchCV, cross_val_score, KFold\n",
    "from sklearn.metrics import classification_report, confusion_matrix, roc_curve, auc, precision_recall_curve, average_precision_score\n",
    "from sklearn.preprocessing import LabelEncoder\n",
    "import joblib"
   ]
  },
  {
   "cell_type": "markdown",
   "id": "f1def1e6-3029-4f41-91cf-1b1c875bc5ce",
   "metadata": {},
   "source": [
    "## Step 1: Load the features dataset"
   ]
  },
  {
   "cell_type": "code",
   "execution_count": 2,
   "id": "a307d1d2-1a38-4bf6-a2cb-3d4c58700409",
   "metadata": {},
   "outputs": [
    {
     "name": "stdout",
     "output_type": "stream",
     "text": [
      "\n",
      "Feature DataFrame (first 5 rows):\n"
     ]
    },
    {
     "data": {
      "text/html": [
       "<div>\n",
       "<style scoped>\n",
       "    .dataframe tbody tr th:only-of-type {\n",
       "        vertical-align: middle;\n",
       "    }\n",
       "\n",
       "    .dataframe tbody tr th {\n",
       "        vertical-align: top;\n",
       "    }\n",
       "\n",
       "    .dataframe thead th {\n",
       "        text-align: right;\n",
       "    }\n",
       "</style>\n",
       "<table border=\"1\" class=\"dataframe\">\n",
       "  <thead>\n",
       "    <tr style=\"text-align: right;\">\n",
       "      <th></th>\n",
       "      <th>sample_index</th>\n",
       "      <th>Scenario</th>\n",
       "      <th>instructions</th>\n",
       "      <th>cpu-migrations</th>\n",
       "      <th>mem_access_rd</th>\n",
       "      <th>mem_access_wr</th>\n",
       "      <th>cache-misses</th>\n",
       "      <th>L1-icache-loads</th>\n",
       "      <th>dTLB-store-misses</th>\n",
       "    </tr>\n",
       "  </thead>\n",
       "  <tbody>\n",
       "    <tr>\n",
       "      <th>0</th>\n",
       "      <td>0</td>\n",
       "      <td>Attack</td>\n",
       "      <td>4.842734e+08</td>\n",
       "      <td>0.0</td>\n",
       "      <td>182447274.0</td>\n",
       "      <td>157319220.0</td>\n",
       "      <td>2113406.0</td>\n",
       "      <td>245241558.0</td>\n",
       "      <td>127193.0</td>\n",
       "    </tr>\n",
       "    <tr>\n",
       "      <th>1</th>\n",
       "      <td>1</td>\n",
       "      <td>Attack</td>\n",
       "      <td>3.360893e+08</td>\n",
       "      <td>0.0</td>\n",
       "      <td>83614575.0</td>\n",
       "      <td>51690301.0</td>\n",
       "      <td>1521862.0</td>\n",
       "      <td>213434196.0</td>\n",
       "      <td>161965.0</td>\n",
       "    </tr>\n",
       "    <tr>\n",
       "      <th>2</th>\n",
       "      <td>2</td>\n",
       "      <td>Attack</td>\n",
       "      <td>2.504586e+08</td>\n",
       "      <td>0.0</td>\n",
       "      <td>62673568.0</td>\n",
       "      <td>123802350.0</td>\n",
       "      <td>1212126.0</td>\n",
       "      <td>69182309.0</td>\n",
       "      <td>18750.0</td>\n",
       "    </tr>\n",
       "    <tr>\n",
       "      <th>3</th>\n",
       "      <td>3</td>\n",
       "      <td>Attack</td>\n",
       "      <td>3.815842e+08</td>\n",
       "      <td>0.0</td>\n",
       "      <td>61085549.0</td>\n",
       "      <td>49477220.0</td>\n",
       "      <td>681121.0</td>\n",
       "      <td>158026571.0</td>\n",
       "      <td>226431.0</td>\n",
       "    </tr>\n",
       "    <tr>\n",
       "      <th>4</th>\n",
       "      <td>4</td>\n",
       "      <td>Attack</td>\n",
       "      <td>2.012276e+09</td>\n",
       "      <td>0.0</td>\n",
       "      <td>464448105.0</td>\n",
       "      <td>344314102.0</td>\n",
       "      <td>11346447.0</td>\n",
       "      <td>943011302.0</td>\n",
       "      <td>776176.0</td>\n",
       "    </tr>\n",
       "  </tbody>\n",
       "</table>\n",
       "</div>"
      ],
      "text/plain": [
       "   sample_index Scenario  instructions  cpu-migrations  mem_access_rd  \\\n",
       "0             0   Attack  4.842734e+08             0.0    182447274.0   \n",
       "1             1   Attack  3.360893e+08             0.0     83614575.0   \n",
       "2             2   Attack  2.504586e+08             0.0     62673568.0   \n",
       "3             3   Attack  3.815842e+08             0.0     61085549.0   \n",
       "4             4   Attack  2.012276e+09             0.0    464448105.0   \n",
       "\n",
       "   mem_access_wr  cache-misses  L1-icache-loads  dTLB-store-misses  \n",
       "0    157319220.0     2113406.0      245241558.0           127193.0  \n",
       "1     51690301.0     1521862.0      213434196.0           161965.0  \n",
       "2    123802350.0     1212126.0       69182309.0            18750.0  \n",
       "3     49477220.0      681121.0      158026571.0           226431.0  \n",
       "4    344314102.0    11346447.0      943011302.0           776176.0  "
      ]
     },
     "execution_count": 2,
     "metadata": {},
     "output_type": "execute_result"
    }
   ],
   "source": [
    "# Set random seed for reproducibility\n",
    "np.random.seed(42)\n",
    "\n",
    "# Load the dataset\n",
    "features_df = pd.read_csv(\"evse_features.csv\")\n",
    "\n",
    "# Display the first few rows of the feature DataFrame to understand the structure\n",
    "print(\"\\nFeature DataFrame (first 5 rows):\")\n",
    "features_df.head()"
   ]
  },
  {
   "cell_type": "markdown",
   "id": "319eb8b4-6302-44cc-9867-37c1411abacc",
   "metadata": {},
   "source": [
    "## Step 2: Encode the Target Variable (Scenario) for Binary Classification"
   ]
  },
  {
   "cell_type": "code",
   "execution_count": 3,
   "id": "e02a85b5-365e-4f05-a885-6afd3e0b80ee",
   "metadata": {},
   "outputs": [
    {
     "name": "stdout",
     "output_type": "stream",
     "text": [
      "Encoded labels: {'Attack': 0, 'Benign': 1}\n"
     ]
    }
   ],
   "source": [
    "# Encode the target variable (Scenario) into binary values (0: Benign, 1: Attack)\n",
    "le = LabelEncoder()\n",
    "y = le.fit_transform(features_df['Scenario'].apply(lambda x: 'Attack' if x != 'Benign' else 'Benign'))\n",
    "\n",
    "# Display the encoded labels\n",
    "print(\"Encoded labels:\", dict(zip(le.classes_, range(len(le.classes_)))))"
   ]
  },
  {
   "cell_type": "markdown",
   "id": "4d1d2b89-8a20-47b6-b4be-5b646fb90e36",
   "metadata": {},
   "source": [
    "## Step 3: Prepare Feature Matrix (X) and Target Vector (y)"
   ]
  },
  {
   "cell_type": "code",
   "execution_count": 4,
   "id": "6effa871-c24e-4faa-a0a7-ca9db4784783",
   "metadata": {},
   "outputs": [
    {
     "data": {
      "text/html": [
       "<div>\n",
       "<style scoped>\n",
       "    .dataframe tbody tr th:only-of-type {\n",
       "        vertical-align: middle;\n",
       "    }\n",
       "\n",
       "    .dataframe tbody tr th {\n",
       "        vertical-align: top;\n",
       "    }\n",
       "\n",
       "    .dataframe thead th {\n",
       "        text-align: right;\n",
       "    }\n",
       "</style>\n",
       "<table border=\"1\" class=\"dataframe\">\n",
       "  <thead>\n",
       "    <tr style=\"text-align: right;\">\n",
       "      <th></th>\n",
       "      <th>instructions</th>\n",
       "      <th>cpu-migrations</th>\n",
       "      <th>mem_access_rd</th>\n",
       "      <th>mem_access_wr</th>\n",
       "      <th>cache-misses</th>\n",
       "      <th>L1-icache-loads</th>\n",
       "      <th>dTLB-store-misses</th>\n",
       "    </tr>\n",
       "  </thead>\n",
       "  <tbody>\n",
       "    <tr>\n",
       "      <th>0</th>\n",
       "      <td>4.842734e+08</td>\n",
       "      <td>0.0</td>\n",
       "      <td>182447274.0</td>\n",
       "      <td>157319220.0</td>\n",
       "      <td>2113406.0</td>\n",
       "      <td>245241558.0</td>\n",
       "      <td>127193.0</td>\n",
       "    </tr>\n",
       "    <tr>\n",
       "      <th>1</th>\n",
       "      <td>3.360893e+08</td>\n",
       "      <td>0.0</td>\n",
       "      <td>83614575.0</td>\n",
       "      <td>51690301.0</td>\n",
       "      <td>1521862.0</td>\n",
       "      <td>213434196.0</td>\n",
       "      <td>161965.0</td>\n",
       "    </tr>\n",
       "    <tr>\n",
       "      <th>2</th>\n",
       "      <td>2.504586e+08</td>\n",
       "      <td>0.0</td>\n",
       "      <td>62673568.0</td>\n",
       "      <td>123802350.0</td>\n",
       "      <td>1212126.0</td>\n",
       "      <td>69182309.0</td>\n",
       "      <td>18750.0</td>\n",
       "    </tr>\n",
       "    <tr>\n",
       "      <th>3</th>\n",
       "      <td>3.815842e+08</td>\n",
       "      <td>0.0</td>\n",
       "      <td>61085549.0</td>\n",
       "      <td>49477220.0</td>\n",
       "      <td>681121.0</td>\n",
       "      <td>158026571.0</td>\n",
       "      <td>226431.0</td>\n",
       "    </tr>\n",
       "    <tr>\n",
       "      <th>4</th>\n",
       "      <td>2.012276e+09</td>\n",
       "      <td>0.0</td>\n",
       "      <td>464448105.0</td>\n",
       "      <td>344314102.0</td>\n",
       "      <td>11346447.0</td>\n",
       "      <td>943011302.0</td>\n",
       "      <td>776176.0</td>\n",
       "    </tr>\n",
       "  </tbody>\n",
       "</table>\n",
       "</div>"
      ],
      "text/plain": [
       "   instructions  cpu-migrations  mem_access_rd  mem_access_wr  cache-misses  \\\n",
       "0  4.842734e+08             0.0    182447274.0    157319220.0     2113406.0   \n",
       "1  3.360893e+08             0.0     83614575.0     51690301.0     1521862.0   \n",
       "2  2.504586e+08             0.0     62673568.0    123802350.0     1212126.0   \n",
       "3  3.815842e+08             0.0     61085549.0     49477220.0      681121.0   \n",
       "4  2.012276e+09             0.0    464448105.0    344314102.0    11346447.0   \n",
       "\n",
       "   L1-icache-loads  dTLB-store-misses  \n",
       "0      245241558.0           127193.0  \n",
       "1      213434196.0           161965.0  \n",
       "2       69182309.0            18750.0  \n",
       "3      158026571.0           226431.0  \n",
       "4      943011302.0           776176.0  "
      ]
     },
     "execution_count": 4,
     "metadata": {},
     "output_type": "execute_result"
    }
   ],
   "source": [
    "# Select feature columns (exclude sample_index and Scenario)\n",
    "X = features_df.drop(columns=['sample_index', 'Scenario'])\n",
    "\n",
    "# Display the feature matrix\n",
    "X.head()"
   ]
  },
  {
   "cell_type": "markdown",
   "id": "c62f863a-bc45-4b6c-ab74-3348bf76681b",
   "metadata": {},
   "source": [
    "## Step 4: Split Data into Training and Test Sets"
   ]
  },
  {
   "cell_type": "code",
   "execution_count": 5,
   "id": "7d5c2c3a-c289-4b78-a068-7a3a0fe601bc",
   "metadata": {},
   "outputs": [
    {
     "name": "stdout",
     "output_type": "stream",
     "text": [
      "Training set size: 5928 samples\n",
      "Test set size: 2541 samples\n"
     ]
    }
   ],
   "source": [
    "# Split the data into training and test sets (70% train, 30% test)\n",
    "X_train, X_test, y_train, y_test = train_test_split(\n",
    "    X, y, test_size=0.3, random_state=42, stratify=y\n",
    ")\n",
    "\n",
    "# Print the sizes of the training and test sets\n",
    "print(f\"Training set size: {X_train.shape[0]} samples\")\n",
    "print(f\"Test set size: {X_test.shape[0]} samples\")"
   ]
  },
  {
   "cell_type": "markdown",
   "id": "b1d259c3-5c76-4991-881a-283b073b6b0a",
   "metadata": {},
   "source": [
    "## Step 5: Define XGBoost Model"
   ]
  },
  {
   "cell_type": "code",
   "execution_count": 6,
   "id": "77a95859-ea9d-4ed5-bd2e-bb1542062e4a",
   "metadata": {},
   "outputs": [],
   "source": [
    "# Define the XGBoost model for binary classification (Attack vs. Benign)\n",
    "xgb_model = xgb.XGBClassifier(\n",
    "    eval_metric='logloss',  # Log loss for binary classification\n",
    "    random_state=42\n",
    ")"
   ]
  },
  {
   "cell_type": "markdown",
   "id": "a3f14f50-58a1-43c8-b9b0-2dc24070d75e",
   "metadata": {},
   "source": [
    "## Step 6: K-Fold Cross-Validation"
   ]
  },
  {
   "cell_type": "code",
   "execution_count": 7,
   "id": "662a77d8-8645-46fe-8de9-7fb022a1004f",
   "metadata": {},
   "outputs": [
    {
     "name": "stdout",
     "output_type": "stream",
     "text": [
      "\n",
      "K-Fold Cross-Validation Scores (XGBoost): [0.9780775716694773, 0.9637436762225969, 0.9662731871838112, 0.9746835443037974, 0.9696202531645569]\n",
      "Mean CV Accuracy: 0.970 (+/- 0.011)\n"
     ]
    }
   ],
   "source": [
    "# Initialize KFold with 5 splits for cross-validation\n",
    "kf = KFold(n_splits=5, shuffle=True, random_state=42)\n",
    "cv_scores = []\n",
    "\n",
    "# Perform cross-validation\n",
    "for train_index, val_index in kf.split(X_train):\n",
    "    X_train_fold, X_val_fold = X_train.iloc[train_index], X_train.iloc[val_index]\n",
    "    y_train_fold, y_val_fold = y_train[train_index], y_train[val_index]\n",
    "    \n",
    "    # Train the model on this fold\n",
    "    xgb_model.fit(X_train_fold, y_train_fold)\n",
    "    \n",
    "    # Predict and evaluate on the validation fold\n",
    "    y_val_pred = xgb_model.predict(X_val_fold)\n",
    "    fold_accuracy = (y_val_pred == y_val_fold).mean()\n",
    "    cv_scores.append(fold_accuracy)\n",
    "\n",
    "# Print cross-validation scores\n",
    "print(f\"\\nK-Fold Cross-Validation Scores (XGBoost): {cv_scores}\")\n",
    "print(f\"Mean CV Accuracy: {np.mean(cv_scores):.3f} (+/- {np.std(cv_scores) * 2:.3f})\")"
   ]
  },
  {
   "cell_type": "markdown",
   "id": "ba7dc3f9-545a-4152-ae8b-45c1252cdf12",
   "metadata": {},
   "source": [
    "## Step 7: Train the Model on Full Training Set"
   ]
  },
  {
   "cell_type": "code",
   "execution_count": 8,
   "id": "27c56e97-6ba2-4d68-b0f9-74ca6a2dde57",
   "metadata": {},
   "outputs": [
    {
     "data": {
      "text/plain": [
       "XGBClassifier(base_score=None, booster=None, callbacks=None,\n",
       "              colsample_bylevel=None, colsample_bynode=None,\n",
       "              colsample_bytree=None, device=None, early_stopping_rounds=None,\n",
       "              enable_categorical=False, eval_metric='logloss',\n",
       "              feature_types=None, gamma=None, grow_policy=None,\n",
       "              importance_type=None, interaction_constraints=None,\n",
       "              learning_rate=None, max_bin=None, max_cat_threshold=None,\n",
       "              max_cat_to_onehot=None, max_delta_step=None, max_depth=None,\n",
       "              max_leaves=None, min_child_weight=None, missing=nan,\n",
       "              monotone_constraints=None, multi_strategy=None, n_estimators=None,\n",
       "              n_jobs=None, num_parallel_tree=None, random_state=42, ...)"
      ]
     },
     "execution_count": 8,
     "metadata": {},
     "output_type": "execute_result"
    }
   ],
   "source": [
    "# Train the model on the full training set\n",
    "xgb_model.fit(X_train, y_train)"
   ]
  },
  {
   "cell_type": "markdown",
   "id": "b7945718-9305-447f-8cc4-35e29cd9bb27",
   "metadata": {},
   "source": [
    "## Step 8: Make Predictions and Evaluate the Model"
   ]
  },
  {
   "cell_type": "code",
   "execution_count": 11,
   "id": "b74d9f71-bc3c-4428-a3d2-af0aaa96dbf1",
   "metadata": {},
   "outputs": [
    {
     "name": "stdout",
     "output_type": "stream",
     "text": [
      "\n",
      "Classification Report (XGBoost):\n",
      "              precision    recall  f1-score   support\n",
      "\n",
      "      Attack       0.98      0.97      0.97      1850\n",
      "      Benign       0.92      0.94      0.93       691\n",
      "\n",
      "    accuracy                           0.96      2541\n",
      "   macro avg       0.95      0.95      0.95      2541\n",
      "weighted avg       0.96      0.96      0.96      2541\n",
      "\n"
     ]
    },
    {
     "data": {
      "image/png": "[encoded data removed]",
      "text/plain": [
       "<Figure size 576x432 with 2 Axes>"
      ]
     },
     "metadata": {
      "needs_background": "light"
     },
     "output_type": "display_data"
    }
   ],
   "source": [
    "# Make predictions on the test set\n",
    "y_pred = xgb_model.predict(X_test)\n",
    "\n",
    "# Classification report for binary classification (Attack vs. Benign)\n",
    "print(\"\\nClassification Report (XGBoost):\")\n",
    "print(classification_report(y_test, y_pred, target_names=le.classes_))\n",
    "\n",
    "# Confusion matrix\n",
    "cm = confusion_matrix(y_test, y_pred)\n",
    "\n",
    "# Normalize the confusion matrix\n",
    "cm_normalized = cm.astype('float') / cm.sum(axis=1)[:, np.newaxis]\n",
    "\n",
    "# Plot the normalized confusion matrix\n",
    "plt.figure(figsize=(8, 6))\n",
    "sns.heatmap(cm_normalized, annot=True, fmt='.2f', cmap='Blues', xticklabels=le.classes_, yticklabels=le.classes_)\n",
    "plt.xlabel('Predicted')\n",
    "plt.ylabel('True')\n",
    "plt.title('Normalized Confusion Matrix (XGBoost)')\n",
    "plt.show()"
   ]
  },
  {
   "cell_type": "markdown",
   "id": "8b6cbd11-c02c-432b-8b04-08249f70e10a",
   "metadata": {},
   "source": [
    "## Step 9: Feature Importance"
   ]
  },
  {
   "cell_type": "code",
   "execution_count": 11,
   "id": "04000462-1f81-473c-83cc-3ceb0ba83430",
   "metadata": {},
   "outputs": [
    {
     "name": "stdout",
     "output_type": "stream",
     "text": [
      "\n",
      "Feature Importance:\n",
      "             Feature  Importance\n",
      "0       instructions    0.636632\n",
      "4       cache-misses    0.180994\n",
      "3      mem_access_wr    0.052249\n",
      "1     cpu-migrations    0.042208\n",
      "6  dTLB-store-misses    0.036679\n",
      "5    L1-icache-loads    0.027752\n",
      "2      mem_access_rd    0.023485\n"
     ]
    },
    {
     "data": {
      "image/png": "[encoded data removed]",
      "text/plain": [
       "<Figure size 1000x600 with 1 Axes>"
      ]
     },
     "metadata": {},
     "output_type": "display_data"
    }
   ],
   "source": [
    "# Feature importance from the trained XGBoost model\n",
    "feature_importance = pd.DataFrame({\n",
    "    'Feature': X.columns,\n",
    "    'Importance': xgb_model.feature_importances_\n",
    "}).sort_values(by='Importance', ascending=False)\n",
    "\n",
    "# Display feature importance\n",
    "print(\"\\nFeature Importance:\")\n",
    "print(feature_importance)\n",
    "\n",
    "# Plot the top 10 most important features\n",
    "plt.figure(figsize=(10, 6))\n",
    "sns.barplot(x='Importance', y='Feature', data=feature_importance.head(10))\n",
    "plt.title('Top 10 Feature Importance (XGBoost)')\n",
    "plt.show()"
   ]
  },
  {
   "cell_type": "markdown",
   "id": "f6168310-8d07-45b9-ae9e-0b6c40fb681e",
   "metadata": {},
   "source": [
    "## Step 10: Compute ROC Curve & AUC Score"
   ]
  },
  {
   "cell_type": "code",
   "execution_count": 12,
   "id": "b626a557-a145-40dd-bc7d-4f2fe1bfdd29",
   "metadata": {},
   "outputs": [
    {
     "data": {
      "image/png": "[encoded data removed]",
      "text/plain": [
       "<Figure size 800x600 with 1 Axes>"
      ]
     },
     "metadata": {},
     "output_type": "display_data"
    }
   ],
   "source": [
    "# Get predicted probabilities for positive class (Attack)\n",
    "y_probs = xgb_model.predict_proba(X_test)[:, 1]\n",
    "\n",
    "# Compute ROC Curve\n",
    "fpr, tpr, _ = roc_curve(y_test, y_probs)\n",
    "roc_auc = auc(fpr, tpr)\n",
    "\n",
    "# Plot ROC Curve\n",
    "plt.figure(figsize=(8, 6))\n",
    "plt.plot(fpr, tpr, color='blue', label=f'ROC Curve (AUC = {roc_auc:.2f})')\n",
    "plt.plot([0, 1], [0, 1], color='gray', linestyle='--')  # Random chance line\n",
    "plt.xlabel('False Positive Rate')\n",
    "plt.ylabel('True Positive Rate')\n",
    "plt.title('Receiver Operating Characteristic (ROC) Curve - XGBoost')\n",
    "plt.legend(loc='lower right')\n",
    "plt.show()"
   ]
  },
  {
   "cell_type": "markdown",
   "id": "04ff666c-5aae-40de-842d-481b3ff5082f",
   "metadata": {},
   "source": [
    "## Step 12: Compute Precision-Recall Curve"
   ]
  },
  {
   "cell_type": "code",
   "execution_count": 13,
   "id": "707a8bb0-67a5-4f97-8aa6-12dba16ef2c6",
   "metadata": {},
   "outputs": [
    {
     "data": {
      "image/png": "[encoded data removed]",
      "text/plain": [
       "<Figure size 800x600 with 1 Axes>"
      ]
     },
     "metadata": {},
     "output_type": "display_data"
    }
   ],
   "source": [
    "# Compute Precision-Recall Curve\n",
    "precision, recall, _ = precision_recall_curve(y_test, y_probs)\n",
    "avg_precision = average_precision_score(y_test, y_probs)\n",
    "\n",
    "# Plot Precision-Recall Curve\n",
    "plt.figure(figsize=(8, 6))\n",
    "plt.plot(recall, precision, color='green', label=f'PR Curve (AP = {avg_precision:.2f})')\n",
    "plt.xlabel('Recall')\n",
    "plt.ylabel('Precision')\n",
    "plt.title('Precision-Recall Curve - XGBoost')\n",
    "plt.legend(loc='lower left')\n",
    "plt.show()\n"
   ]
  },
  {
   "cell_type": "markdown",
   "id": "8597bfef-464b-470e-89a5-e9e0f1a8e5aa",
   "metadata": {},
   "source": [
    "## Step 13: Save the Model and Label Encoder"
   ]
  },
  {
   "cell_type": "code",
   "execution_count": 14,
   "id": "a24909a1-9d9e-43b6-bef1-0824cf37930d",
   "metadata": {},
   "outputs": [
    {
     "data": {
      "text/plain": [
       "['label_encoder.pkl']"
      ]
     },
     "execution_count": 14,
     "metadata": {},
     "output_type": "execute_result"
    }
   ],
   "source": [
    "# Save the trained model and label encoder for future use\n",
    "joblib.dump(xgb_model, 'xgboost_model.pkl')\n",
    "joblib.dump(le, 'label_encoder.pkl')"
   ]
  },
  {
   "cell_type": "code",
   "execution_count": null,
   "id": "4616587a-6a75-4f20-8d79-a6398b190e55",
   "metadata": {},
   "outputs": [],
   "source": []
  }
 ],
 "metadata": {
  "kernelspec": {
   "display_name": "Python 3 (ipykernel)",
   "language": "python",
   "name": "python3"
  },
  "language_info": {
   "codemirror_mode": {
    "name": "ipython",
    "version": 3
   },
   "file_extension": ".py",
   "mimetype": "text/x-python",
   "name": "python",
   "nbconvert_exporter": "python",
   "pygments_lexer": "ipython3",
   "version": "3.9.7"
  }
 },
 "nbformat": 4,
 "nbformat_minor": 5
}
